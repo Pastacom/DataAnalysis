{
  "cells": [
    {
      "cell_type": "markdown",
      "metadata": {
        "id": "5GYwwlTcuJ4m"
      },
      "source": [
        "# HSE 2023: Mathematical Methods for Data Analysis\n",
        "\n",
        "## Homework 1"
      ]
    },
    {
      "cell_type": "markdown",
      "metadata": {
        "id": "2OMoZn7puJ4n"
      },
      "source": [
        "### Attention!\n",
        "* For tasks where <ins>text answer</ins> is required **Russian language** is **allowed**.\n",
        "* If a task asks you to describe something (make conclusions) then **text answer** is **mandatory** and **is** part of the task\n",
        "* **Do not** upload the dataset (titanic.csv) to the grading system (we already have it)\n",
        "* We **only** accept **ipynb** notebooks. If you use Google Colab then you'll have to download the notebook before passing the homework\n",
        "* **Do not** use python loops instead of NumPy vector operations over NumPy vectors - it significantly decreases performance (see why https://blog.paperspace.com/numpy-optimization-vectorization-and-broadcasting/), will be punished with -0.25 for **every** task.\n",
        "Loops are only allowed in part 1 (Tasks 1 - 4).\n",
        "* Some tasks contain tests. They only test your solution on a simple example, thus, passing the test does **not** guarantee you the full grade for the task."
      ]
    },
    {
      "cell_type": "code",
      "execution_count": 2,
      "metadata": {
        "id": "KVxhOZOXuJ4o"
      },
      "outputs": [],
      "source": [
        "%matplotlib inline\n",
        "import numpy as np\n",
        "import pandas as pd\n",
        "import matplotlib.pyplot as plt\n",
        "import seaborn as sns"
      ]
    },
    {
      "cell_type": "markdown",
      "metadata": {
        "id": "U20kQiWSuJ4o"
      },
      "source": [
        "# 1. Python (2 points)"
      ]
    },
    {
      "cell_type": "markdown",
      "metadata": {
        "id": "q6l8_yRXuJ4o"
      },
      "source": [
        "**Task 1** (0.5 points)<br/>\n",
        "Enter nonzero numbers `a`, `d` and `N`. Find the sum of the first `N` members of [harmonic sequence](https://en.wikipedia.org/wiki/Harmonic_progression_(mathematics)) with the first member denominator `a`"
      ]
    },
    {
      "cell_type": "code",
      "execution_count": null,
      "metadata": {
        "id": "H2VAlE4WuJ4o",
        "colab": {
          "base_uri": "https://localhost:8080/"
        },
        "outputId": "2be7fd53-5c47-4000-862a-8351fb18c400"
      },
      "outputs": [
        {
          "output_type": "stream",
          "name": "stdout",
          "text": [
            "2.9289682539682538\n"
          ]
        }
      ],
      "source": [
        "def find_sum(a: int, d: int, N: int) -> float:\n",
        "    if any(x == 0 for x in [a, d, N]):\n",
        "      print(\"Error: Zero number was passed\")\n",
        "      return -1\n",
        "    result = 0\n",
        "    for i in range(N):\n",
        "      result += 1 / (a + i * d)\n",
        "    return result\n",
        "\n",
        "a = 1\n",
        "d = 1\n",
        "N = 10\n",
        "print(find_sum(a, d, N))"
      ]
    },
    {
      "cell_type": "markdown",
      "metadata": {
        "id": "FCtV7ud0uJ4p"
      },
      "source": [
        "**Task 2** (0.5 points) <br/>\n",
        "Enter an integer number `N`. Check if it is a palindrome number **without converting it to the string**. It means that it can be read equally from left to right and from right to back."
      ]
    },
    {
      "cell_type": "code",
      "execution_count": null,
      "metadata": {
        "id": "-7y9eR62uJ4p",
        "colab": {
          "base_uri": "https://localhost:8080/"
        },
        "outputId": "e9ade02a-a2f7-4349-8466-77cad26ba661"
      },
      "outputs": [
        {
          "output_type": "stream",
          "name": "stdout",
          "text": [
            "3 True\n",
            "81 False\n",
            "111 True\n",
            "113 False\n",
            "810 False\n",
            "2022 False\n",
            "4774 True\n",
            "51315 True\n",
            "611816 False\n",
            "-11 False\n"
          ]
        }
      ],
      "source": [
        "def check_palindrome(N):\n",
        "    if N < 0:\n",
        "      return False\n",
        "    original = N\n",
        "    reversed = 0\n",
        "    while N > 0:\n",
        "      reversed = N % 10 + reversed * 10\n",
        "      N //= 10\n",
        "    return original == reversed\n",
        "\n",
        "for N in [3, 81, 111, 113, 810, 2022, 4774, 51315, 611816, -11]:\n",
        "    print(N, check_palindrome(N))"
      ]
    },
    {
      "cell_type": "markdown",
      "metadata": {
        "id": "MTmGn0IXuJ4p"
      },
      "source": [
        "**Task 3** (0.5 points) <br/>\n",
        "Find the first `N` palindrome numbers starting from 42 (you may use the function from the precious task)."
      ]
    },
    {
      "cell_type": "code",
      "execution_count": null,
      "metadata": {
        "id": "eWD7K18OuJ4p",
        "colab": {
          "base_uri": "https://localhost:8080/"
        },
        "outputId": "46a829ab-ccaf-4a19-d501-8b834a4f257a"
      },
      "outputs": [
        {
          "output_type": "stream",
          "name": "stdout",
          "text": [
            "[44, 55, 66]\n",
            "[44, 55, 66, 77, 88, 99, 101, 111, 121, 131, 141, 151, 161]\n",
            "[44, 55, 66, 77, 88, 99, 101, 111, 121, 131, 141, 151, 161, 171, 181, 191, 202, 212, 222, 232, 242, 252, 262]\n"
          ]
        }
      ],
      "source": [
        "def find_palindromes(N):\n",
        "    current = 42\n",
        "    palindromes = []\n",
        "    while len(palindromes) < N:\n",
        "      if check_palindrome(current):\n",
        "        palindromes.append(current)\n",
        "      current += 1\n",
        "    return palindromes\n",
        "\n",
        "print(find_palindromes(3))\n",
        "print(find_palindromes(13))\n",
        "print(find_palindromes(23))"
      ]
    },
    {
      "cell_type": "markdown",
      "metadata": {
        "id": "xl9sWBMFuJ4p"
      },
      "source": [
        "**Task 4** (0.5 points) <br/>\n",
        "There are numbers: `a`, `b`, `c`. Without using functions `min`, `max` and other functions, find the median number."
      ]
    },
    {
      "cell_type": "code",
      "execution_count": null,
      "metadata": {
        "id": "STOaXhYbuJ4p",
        "colab": {
          "base_uri": "https://localhost:8080/"
        },
        "outputId": "03f061fa-5e22-4835-b707-bf28c70ca1f9"
      },
      "outputs": [
        {
          "output_type": "stream",
          "name": "stdout",
          "text": [
            "-39 2 8 \tMedian: 2\n",
            "92 -98 -84 \tMedian: -84\n",
            "87 -8 98 \tMedian: 87\n",
            "13 -52 93 \tMedian: 13\n",
            "-49 -93 -64 \tMedian: -64\n",
            "-29 -9 -43 \tMedian: -29\n",
            "61 -75 -28 \tMedian: -28\n",
            "-28 -15 -14 \tMedian: -15\n",
            "-63 -51 88 \tMedian: -51\n",
            "-79 -46 16 \tMedian: -46\n"
          ]
        }
      ],
      "source": [
        "from random import randint\n",
        "\n",
        "def find_median(a, b, c):\n",
        "    if b <= a <= c or c <= a <= b:\n",
        "        return a\n",
        "    elif a <= b <= c or c <= b <= a:\n",
        "        return b\n",
        "    else:\n",
        "        return c\n",
        "\n",
        "for i in range(10):\n",
        "\n",
        "    a = randint(-100, 100)\n",
        "    b = randint(-100, 100)\n",
        "    c = randint(-100, 100)\n",
        "\n",
        "    print(a, b, c, '\\tMedian:', find_median(a, b, c))"
      ]
    },
    {
      "cell_type": "markdown",
      "metadata": {
        "id": "up1L0oApuJ4p"
      },
      "source": [
        "# 2. Numpy (4 points)"
      ]
    },
    {
      "cell_type": "markdown",
      "metadata": {
        "id": "mWVb1DCyuJ4p"
      },
      "source": [
        "**Task 1** (0.5 points) <br/>\n",
        "Create a random array from Gaussian distribution with length of 12 and with sum of its elements equal to 15. Distribution shall be left Gaussian"
      ]
    },
    {
      "cell_type": "code",
      "execution_count": null,
      "metadata": {
        "id": "r0p7U44VuJ4p",
        "colab": {
          "base_uri": "https://localhost:8080/"
        },
        "outputId": "e8db394a-9c42-492e-83da-d581a4703285"
      },
      "outputs": [
        {
          "output_type": "stream",
          "name": "stdout",
          "text": [
            "Length: 12\n",
            "Sum of elements: 14.999999999999998\n"
          ]
        }
      ],
      "source": [
        "my_array = np.random.normal(size=12)\n",
        "my_array += (15 - np.sum(my_array)) / 12\n",
        "print(f'Length: {len(my_array)}')\n",
        "print(f'Sum of elements: {np.sum(my_array)}')"
      ]
    },
    {
      "cell_type": "markdown",
      "metadata": {
        "id": "k4v47kP0uJ4p"
      },
      "source": [
        "**Task 2** (0.5 points) <br/>\n",
        "Create two random arrays $a$ and $b$ with the same length.\n",
        "\n",
        "Calculate the following distances between the arrays **without using any special function. You may only use basic numpy operations (`np.linalg.*` and other high-level ones are prohibited).**:\n",
        "\n",
        "* Manhattan Distance\n",
        "$$ d(a, b) = \\sum_i |a_i - b_i| $$\n",
        "* Euclidean Distance\n",
        "$$ d(a, b) = \\sqrt{\\sum_i (a_i - b_i)^2} $$\n",
        "* Chebyshev Distance\n",
        "$$ d(a, b) = \\underset{i}{max} |a_i - b_i| $$\n",
        "* Cosine Distance\n",
        "$$ d(a, b) = 1 - \\frac{a^\\top b}{||a||_2\\cdot||b||_2} $$\n"
      ]
    },
    {
      "cell_type": "code",
      "execution_count": null,
      "metadata": {
        "id": "W3veWp-VuJ4p"
      },
      "outputs": [],
      "source": [
        "def calculate_manhattan(a, b):\n",
        "    return np.sum(np.abs(a - b))\n",
        "\n",
        "def calculate_euclidean(a, b):\n",
        "    return np.sqrt(np.sum((a - b) ** 2))\n",
        "\n",
        "def calculate_chebyshev(a, b):\n",
        "    return np.max(np.abs(a - b))\n",
        "\n",
        "def calculate_cosine(a, b):\n",
        "    return 1 - np.sum(a * b) / (np.sqrt(np.sum(a ** 2)) * np.sqrt(np.sum(b ** 2)))"
      ]
    },
    {
      "cell_type": "code",
      "execution_count": null,
      "metadata": {
        "id": "IbB3TB77uJ4q",
        "colab": {
          "base_uri": "https://localhost:8080/"
        },
        "outputId": "ababd1dd-2ff4-4ace-f715-6eba5557286d"
      },
      "outputs": [
        {
          "output_type": "stream",
          "name": "stdout",
          "text": [
            "Manhattan distance: 7.37436471993342\n",
            "Euclidean distance: 1.9579670850153312\n",
            "Chebyshev distance: 0.8228631250111839\n",
            "Cosine distance: 0.29865482961551526\n"
          ]
        }
      ],
      "source": [
        "n = 20\n",
        "a = np.random.rand(n)\n",
        "b = np.random.rand(n)\n",
        "print(f'Manhattan distance: {calculate_manhattan(a, b)}')\n",
        "print(f'Euclidean distance: {calculate_euclidean(a, b)}')\n",
        "print(f'Chebyshev distance: {calculate_chebyshev(a, b)}')\n",
        "print(f'Cosine distance: {calculate_cosine(a, b)}')"
      ]
    },
    {
      "cell_type": "markdown",
      "metadata": {
        "id": "0inovs_suJ4q"
      },
      "source": [
        "**Task 3** (0.5 points) <br/>\n",
        "Create a random array of integers with length of 42. Transform the array so that\n",
        "* Maximum element(s) value is 10\n",
        "* Minimum element(s) value is -6\n",
        "* Other values are in interval (-6; 10) without changing the relative order (relation $\\frac{x_i}{x_{i-1}}=\\frac{\\widehat{x}_{i}}{\\widehat{x}_{i-1}}$ holds)"
      ]
    },
    {
      "cell_type": "code",
      "execution_count": 28,
      "metadata": {
        "id": "FhoGLR5CuJ4q"
      },
      "outputs": [],
      "source": [
        "def transform(array):\n",
        "    transformed_array = (array - np.min(array)) / (np.max(array) - np.min(array))\n",
        "    transformed_array = -6 + 16 * transformed_array\n",
        "\n",
        "    return transformed_array"
      ]
    },
    {
      "cell_type": "code",
      "execution_count": 29,
      "metadata": {
        "id": "8BE5MjUMuJ4q",
        "colab": {
          "base_uri": "https://localhost:8080/"
        },
        "outputId": "e646c87c-068f-450b-cb9c-16bc828c9e4c"
      },
      "outputs": [
        {
          "output_type": "stream",
          "name": "stdout",
          "text": [
            "Original array:\n",
            "[87.82793461 97.30934123 70.59065252 19.24672837 98.56592518 14.3136928\n",
            " 94.47062383 14.46490179 79.32457336  8.48524046 23.94152081 87.64813247\n",
            " 29.81360662 64.29519042 27.52720681 23.98894707 86.69324891 27.85786645\n",
            "  7.59061801 52.85344357 60.1340442  26.10801997  4.8593228  58.77608245\n",
            " 25.3293312  24.89297593 74.50933426 51.5829875   3.07265764  3.37579874\n",
            " 89.41629934 95.35197194 21.45848471 25.20357337 17.6686397  55.49194483\n",
            " 96.55730921  5.60270309 21.29985016  1.05804974 64.8078754  69.9321338 ]\n",
            "Min: -6.0\n",
            "Max: 10.0\n",
            "Array:\n",
            "[ 8.23801054  9.79380801  5.40955681 -3.01543227 10.         -3.82489068\n",
            "  9.32800483 -3.8000789   6.84269986 -4.7812774  -2.24506702  8.20850693\n",
            " -1.28152051  4.37653878 -1.65669428 -2.23728488  8.05182074 -1.60243657\n",
            " -4.92807538  2.49907043  3.69373917 -1.88956767 -5.37625173  3.47091216\n",
            " -2.01734217 -2.08894341  6.05257059  2.29060217 -5.66942438 -5.61968217\n",
            "  8.49864421  9.47262463 -2.6525067  -2.03797769 -3.27437975  2.93202028\n",
            "  9.67040759 -5.25427097 -2.67853694 -6.          4.4606649   5.30150093]\n"
          ]
        }
      ],
      "source": [
        "my_array = np.random.rand(42) * 100\n",
        "print(\"Original array:\")\n",
        "print(my_array)\n",
        "my_array = transform(my_array)\n",
        "print(f'Min: {np.min(my_array)}')\n",
        "print(f'Max: {np.max(my_array)}')\n",
        "print('Array:')\n",
        "print(my_array)"
      ]
    },
    {
      "cell_type": "markdown",
      "metadata": {
        "id": "2uFda-U_uJ4q"
      },
      "source": [
        "**Task 4** (0.5 points) <br/>\n",
        "Create an array with shape of $10 \\times 3$ with integers from [-12, 4]. Find a column that contains the minimum element of the array."
      ]
    },
    {
      "cell_type": "code",
      "execution_count": null,
      "metadata": {
        "id": "u4QV7NVIuJ4q",
        "colab": {
          "base_uri": "https://localhost:8080/"
        },
        "outputId": "a55823ef-168b-43c9-d0fa-fd7081b88ec5"
      },
      "outputs": [
        {
          "output_type": "stream",
          "name": "stdout",
          "text": [
            "Shape:  (10, 3)\n",
            "Array:\n",
            "[[  1   2  -2]\n",
            " [ -4   0  -5]\n",
            " [ -6 -10 -11]\n",
            " [ -6  -5  -4]\n",
            " [ -7   1 -10]\n",
            " [ -3 -10  -8]\n",
            " [ -8   2   3]\n",
            " [ -8   4   0]\n",
            " [  2  -9   4]\n",
            " [ -2 -10  -8]]\n",
            "Selected column: 2\n"
          ]
        }
      ],
      "source": [
        "my_array = np.random.randint(-12, 5, size=(10, 3))\n",
        "selected_column = np.argmin(my_array.min(axis=0))\n",
        "print('Shape: ', my_array.shape)\n",
        "print('Array:')\n",
        "print(my_array)\n",
        "print(f'Selected column: {selected_column}')"
      ]
    },
    {
      "cell_type": "markdown",
      "metadata": {
        "id": "9ct8lQ4BuJ4q"
      },
      "source": [
        "**Task 5** (0.5 points) <br/>\n",
        "\n",
        "Replace all missing values in the following array with the most appropriate quantile, explain why you chose it."
      ]
    },
    {
      "cell_type": "markdown",
      "source": [
        "### Explanation\n",
        "We are replacing the missing values with the median because this will help keep the normal distribution that is presented in array after generation and the overall central tendency."
      ],
      "metadata": {
        "id": "gHwAxQ7TgtbE"
      }
    },
    {
      "cell_type": "code",
      "execution_count": 23,
      "metadata": {
        "id": "RJ-6HPUQuJ4q",
        "colab": {
          "base_uri": "https://localhost:8080/"
        },
        "outputId": "1a04f9ac-c8f0-4049-81d3-3aca5d59aee5"
      },
      "outputs": [
        {
          "output_type": "stream",
          "name": "stdout",
          "text": [
            "Array:\n",
            "[0.83655715        nan 0.79941856 0.4795077         nan        nan\n",
            "        nan 0.3980336  0.92354366 0.6131295 ]\n"
          ]
        }
      ],
      "source": [
        "arr = np.random.rand(10)\n",
        "idx = np.random.randint(0, 10, 4)\n",
        "arr[idx] = np.nan\n",
        "\n",
        "print('Array:')\n",
        "print(arr)"
      ]
    },
    {
      "cell_type": "code",
      "execution_count": 17,
      "metadata": {
        "id": "wZV63ohyuJ4q"
      },
      "outputs": [],
      "source": [
        "def replace_missing(arr):\n",
        "    median = np.nanmedian(arr)\n",
        "    arr[np.isnan(arr)] = median\n",
        "    return arr"
      ]
    },
    {
      "cell_type": "code",
      "execution_count": 24,
      "metadata": {
        "id": "_hG2tbcPuJ4q",
        "colab": {
          "base_uri": "https://localhost:8080/"
        },
        "outputId": "1d477e9a-c464-4489-9bed-d9a0a56a2a7a"
      },
      "outputs": [
        {
          "output_type": "stream",
          "name": "stdout",
          "text": [
            "Array with no missing values:\n",
            "[0.83655715 0.70627403 0.79941856 0.4795077  0.70627403 0.70627403\n",
            " 0.70627403 0.3980336  0.92354366 0.6131295 ]\n"
          ]
        }
      ],
      "source": [
        "arr = replace_missing(arr)\n",
        "print('Array with no missing values:')\n",
        "print(arr)"
      ]
    },
    {
      "cell_type": "markdown",
      "metadata": {
        "id": "HX2x-qUEuJ4q"
      },
      "source": [
        "**Task 6** (0.5 points) <br/>\n",
        "Create a function which takes an image ```X``` (3D array of the shape (n, m, 3)) as an input and returns the median and std for every channel (you should get a vector of shape 3, RGB)."
      ]
    },
    {
      "cell_type": "code",
      "execution_count": 44,
      "metadata": {
        "id": "pbdP4x4AuJ4q"
      },
      "outputs": [],
      "source": [
        "def stats_channel(X):\n",
        "    median = np.median(X, axis=(0, 1))\n",
        "    std = np.std(X, axis=(0, 1))\n",
        "    return median, std"
      ]
    },
    {
      "cell_type": "code",
      "execution_count": 47,
      "metadata": {
        "id": "hucX0ybWuJ4q",
        "colab": {
          "base_uri": "https://localhost:8080/"
        },
        "outputId": "3be5f602-8998-4534-93b1-9a322d78c9d9"
      },
      "outputs": [
        {
          "output_type": "stream",
          "name": "stdout",
          "text": [
            "[[[ -9 -11   1]\n",
            "  [  7  -7  -1]\n",
            "  [  1 -11 -11]\n",
            "  ...\n",
            "  [ -9   6  -1]\n",
            "  [  5  -1 -11]\n",
            "  [ -8   5 -11]]\n",
            "\n",
            " [[ -6   1   0]\n",
            "  [  1  -5  -8]\n",
            "  [-10   3  -3]\n",
            "  ...\n",
            "  [ -1   6  -5]\n",
            "  [ -8   1  -1]\n",
            "  [  1  -3   6]]\n",
            "\n",
            " [[ -1  -3   0]\n",
            "  [  4  -9   2]\n",
            "  [ -8 -10  -6]\n",
            "  ...\n",
            "  [-11  -2  -9]\n",
            "  [  3 -11   3]\n",
            "  [ -6   3 -11]]\n",
            "\n",
            " ...\n",
            "\n",
            " [[ -4  -8  -8]\n",
            "  [ -3  -3  -9]\n",
            "  [ -6   1   3]\n",
            "  ...\n",
            "  [ -9  -6  -7]\n",
            "  [  0 -11  -7]\n",
            "  [ -9  -4   2]]\n",
            "\n",
            " [[ -7  -4 -10]\n",
            "  [  2  -2  -1]\n",
            "  [ -9   7 -11]\n",
            "  ...\n",
            "  [ -3  -3 -11]\n",
            "  [ -4  -8  -9]\n",
            "  [  0  -3   7]]\n",
            "\n",
            " [[ -7   1  -8]\n",
            "  [ -3  -2  -2]\n",
            "  [ -7  -2  -4]\n",
            "  ...\n",
            "  [ -2   2   3]\n",
            "  [ -5  -9   1]\n",
            "  [ -8  -6   6]]]\n",
            "(array([-2., -2., -3.]), array([5.33581429, 5.45981804, 5.32493837]))\n"
          ]
        }
      ],
      "source": [
        "n = 19\n",
        "m = 23\n",
        "X = np.random.randint(-11, 8, size=(n, m, 3))\n",
        "print(X)\n",
        "print(stats_channel(X))"
      ]
    },
    {
      "cell_type": "markdown",
      "metadata": {
        "id": "0Pg2nDCxuJ4q"
      },
      "source": [
        "### **Task 7** (1 points) <br/>\n",
        "Create a function which takes a 3D matrix ```X``` as an input and returns all its unique values along the first axis.\n",
        "\n",
        "Sample input:\n",
        "\n",
        "```\n",
        "np.array(\n",
        "  [[[1, 2, 3],\n",
        "    [1, 2, 3],\n",
        "    [1, 2, 3]],\n",
        "\n",
        "   [[4, 5, 6],\n",
        "    [4, 5, 7],\n",
        "    [4, 5, 6]],\n",
        "\n",
        "   [[7, 8, 9],\n",
        "    [7, 8, 9],\n",
        "    [7, 8, 9]]]\n",
        ")\n",
        "```\n",
        "  \n",
        "Sample output:\n",
        "\n",
        "```\n",
        "np.array(\n",
        "  [[[1, 2, 3],\n",
        "    [1, 2, 3]],\n",
        "\n",
        "   [[4, 5, 6],\n",
        "    [4, 5, 7]],\n",
        "\n",
        "   [[7, 8, 9],\n",
        "    [7, 8, 9]]]\n",
        ")\n",
        "```"
      ]
    },
    {
      "cell_type": "code",
      "execution_count": 40,
      "metadata": {
        "id": "YdsrT0G8uJ4q"
      },
      "outputs": [],
      "source": [
        "def get_unique_values(X):\n",
        "    return np.unique(X, axis=1)"
      ]
    },
    {
      "cell_type": "code",
      "execution_count": 43,
      "metadata": {
        "id": "UNvyiySzuJ4q",
        "colab": {
          "base_uri": "https://localhost:8080/"
        },
        "outputId": "17aa89a9-50c9-48d6-91c1-f3f03baba5c5"
      },
      "outputs": [
        {
          "output_type": "stream",
          "name": "stdout",
          "text": [
            "Matrix:\n",
            "[[[5 5 4]\n",
            "  [4 4 5]\n",
            "  [5 5 4]]\n",
            "\n",
            " [[5 5 5]\n",
            "  [4 4 5]\n",
            "  [4 4 4]]\n",
            "\n",
            " [[5 4 4]\n",
            "  [5 4 5]\n",
            "  [5 4 5]]\n",
            "\n",
            " [[4 4 5]\n",
            "  [4 4 5]\n",
            "  [4 5 5]]\n",
            "\n",
            " [[5 4 4]\n",
            "  [5 4 4]\n",
            "  [5 4 4]]]\n",
            "Unique :\n",
            "[[[4 4 5]\n",
            "  [5 5 4]\n",
            "  [5 5 4]]\n",
            "\n",
            " [[4 4 5]\n",
            "  [4 4 4]\n",
            "  [5 5 5]]\n",
            "\n",
            " [[5 4 5]\n",
            "  [5 4 5]\n",
            "  [5 4 4]]\n",
            "\n",
            " [[4 4 5]\n",
            "  [4 5 5]\n",
            "  [4 4 5]]\n",
            "\n",
            " [[5 4 4]\n",
            "  [5 4 4]\n",
            "  [5 4 4]]]\n"
          ]
        }
      ],
      "source": [
        "X =  np.random.randint(4, 6, size=(5, 3, 3))\n",
        "\n",
        "print('Matrix:')\n",
        "print(X)\n",
        "print('Unique :')\n",
        "print(get_unique_values(X))"
      ]
    },
    {
      "cell_type": "markdown",
      "metadata": {
        "id": "W135mraVuJ4r"
      },
      "source": [
        "# 3. Pandas & Visualization (4 points)\n"
      ]
    },
    {
      "cell_type": "markdown",
      "metadata": {
        "id": "_UfaIXGcuJ4r"
      },
      "source": [
        "You are going to work with *Titanic* dataset which contains information about passengers of Titanic:\n",
        "- **Survived** - 1 - survived, 0 - died (0); **Target variable**\n",
        "- **pclass** - passengers's class;\n",
        "- **sex** - passengers's sex\n",
        "- **Age** - passengers's age in years\n",
        "- **sibsp**    - is the passenger someones siblings   \n",
        "- **parch**    - is the passenger someones child or parent\n",
        "- **ticket** - ticket number    \n",
        "- **fare** - ticket price    \n",
        "- **cabin** - cabin number\n",
        "- **embarked** - port of Embarkation; C = Cherbourg, Q = Queenstown, S = Southampton\n",
        "\n",
        "**Note** for all visualizations use matplotlib or seaborn but NOT plotly! Plotly's graphics sometimes vanish after saving. In this case the task won't be graded.\n",
        "\n",
        "**Note** support all your answers with necessary code, computations, vizualization, and explanation. Answers without code and explanation won't be graded.\n",
        "\n",
        "**Task 0** (0 points) \\\n",
        "Load the dataset and print first 6 rows"
      ]
    },
    {
      "cell_type": "code",
      "execution_count": null,
      "metadata": {
        "id": "92IDku0HuJ4r"
      },
      "outputs": [],
      "source": [
        "dataset = pd.read_csv('titanic.csv')\n",
        "\n",
        "dataset.head(6)"
      ]
    },
    {
      "cell_type": "markdown",
      "metadata": {
        "id": "0FeAHgZtuJ4r"
      },
      "source": [
        "**Task 1** (1 points) <br/>\n",
        "Answer the following questions:\n",
        "    \n",
        "    * Are there any missing values? In what columns?\n",
        "    * What is the percentage of survived passengers? Are the classes balanced?\n",
        "    * Were there more males or females?\n",
        "    * What what the least popular port of embarkation?\n",
        "    * How many passenger classes (pclass) were there on Tinanic?\n",
        "    * What is the overall average ticket fare? And for every passenger class?\n",
        "Please, write not only the answers but the code, proving it."
      ]
    },
    {
      "cell_type": "markdown",
      "source": [
        "### Are there any missing values? In what columns?\n",
        "Yes, there are some missing values:\n",
        "\n",
        "\n",
        "*   177 in column Age\n",
        "*   687 in column Cabin\n",
        "*   2 in column Embarked\n",
        "\n",
        "\n",
        "\n",
        "\n"
      ],
      "metadata": {
        "id": "UVFkjv_yvvsq"
      }
    },
    {
      "cell_type": "code",
      "execution_count": 53,
      "metadata": {
        "id": "4PizO86UuJ4r",
        "colab": {
          "base_uri": "https://localhost:8080/"
        },
        "outputId": "6ade3758-dae6-4c38-a64d-a600efbd8c26"
      },
      "outputs": [
        {
          "output_type": "stream",
          "name": "stdout",
          "text": [
            "Columns with missing values:\n",
            "Age         177\n",
            "Cabin       687\n",
            "Embarked      2\n",
            "dtype: int64\n"
          ]
        }
      ],
      "source": [
        "missing_values = dataset.isna().sum()\n",
        "\n",
        "print(\"Columns with missing values:\")\n",
        "print(missing_values[missing_values > 0])"
      ]
    },
    {
      "cell_type": "markdown",
      "source": [
        "### What is the percentage of survived passengers? Are the classes balanced?\n",
        "The percentage of survived passengers is about 38.4\n",
        "\n",
        "While these two classes are not perfectly balanced (there are more passengers who died), they are not severely imbalanced either(38.4% vs 61.6%), so it should still be possible to build a reasonably effective predictive model without encountering severe class imbalance issues."
      ],
      "metadata": {
        "id": "V6u5qju3wv08"
      }
    },
    {
      "cell_type": "code",
      "source": [
        "survived_percentage = (dataset['Survived'].mean()) * 100\n",
        "\n",
        "class_balance = dataset['Survived'].value_counts()\n",
        "\n",
        "print(\"Percentage of survived passengers:\", survived_percentage)\n",
        "print(\"Class balance:\")\n",
        "print(class_balance)"
      ],
      "metadata": {
        "colab": {
          "base_uri": "https://localhost:8080/"
        },
        "id": "aWOf6Pv7ww04",
        "outputId": "e647b5ce-dd9a-49cc-e36c-a724e5db6295"
      },
      "execution_count": 58,
      "outputs": [
        {
          "output_type": "stream",
          "name": "stdout",
          "text": [
            "Percentage of survived passengers: 38.38383838383838\n",
            "Class balance:\n",
            "0    549\n",
            "1    342\n",
            "Name: Survived, dtype: int64\n"
          ]
        }
      ]
    },
    {
      "cell_type": "markdown",
      "source": [
        "### Were there more males or females?\n",
        "There were more men on the ship:\n",
        "\n",
        "\n",
        "*   Number of males: 577\n",
        "*   Number of females: 314\n",
        "\n"
      ],
      "metadata": {
        "id": "3Hq6V1XXwot3"
      }
    },
    {
      "cell_type": "code",
      "source": [
        "gender_count = dataset['Sex'].value_counts()\n",
        "\n",
        "print(\"Number of males and females:\")\n",
        "print(gender_count)"
      ],
      "metadata": {
        "colab": {
          "base_uri": "https://localhost:8080/"
        },
        "id": "3US3J5XnznAP",
        "outputId": "991d283c-8deb-45df-ad4e-fc187635146c"
      },
      "execution_count": 60,
      "outputs": [
        {
          "output_type": "stream",
          "name": "stdout",
          "text": [
            "Number of males and females:\n",
            "male      577\n",
            "female    314\n",
            "Name: Sex, dtype: int64\n"
          ]
        }
      ]
    },
    {
      "cell_type": "markdown",
      "source": [
        "### What what the least popular port of embarkation?\n",
        "According to embarkation statistics:\n",
        "\n",
        "*   Embarked in port S: 644\n",
        "*   Embarked in port C: 168\n",
        "*   Embarked in port Q: 77\n",
        "\n",
        "Least popular port was Q"
      ],
      "metadata": {
        "id": "t1paDRr70U0D"
      }
    },
    {
      "cell_type": "code",
      "source": [
        "ports_count = dataset['Embarked'].value_counts()\n",
        "least_popular_port = ports_count.idxmin()\n",
        "\n",
        "print(\"Embarkation statistics:\")\n",
        "print(ports_count)\n",
        "print(\"Least popular port of embarkation:\", least_popular_port)"
      ],
      "metadata": {
        "colab": {
          "base_uri": "https://localhost:8080/"
        },
        "id": "pTXboK0M0eCJ",
        "outputId": "be8c46d5-e639-454e-ee4c-054a9ee0676a"
      },
      "execution_count": 62,
      "outputs": [
        {
          "output_type": "stream",
          "name": "stdout",
          "text": [
            "Embarkation statistics:\n",
            "S    644\n",
            "C    168\n",
            "Q     77\n",
            "Name: Embarked, dtype: int64\n",
            "Least popular port of embarkation: Q\n"
          ]
        }
      ]
    },
    {
      "cell_type": "markdown",
      "source": [
        "### How many passenger classes (pclass) were there on Tinanic?\n",
        "There were 3 passenger classes on Titanic"
      ],
      "metadata": {
        "id": "VFelCmHR5jez"
      }
    },
    {
      "cell_type": "code",
      "source": [
        "passenger_classes_count = dataset['Pclass'].nunique()\n",
        "\n",
        "print(\"Number of passenger classes on titanic:\", passenger_classes_count)"
      ],
      "metadata": {
        "colab": {
          "base_uri": "https://localhost:8080/"
        },
        "id": "HrqEM5XU5na2",
        "outputId": "03d828b3-f41e-4976-e56c-0d6f0e6efd53"
      },
      "execution_count": null,
      "outputs": [
        {
          "output_type": "stream",
          "name": "stdout",
          "text": [
            "Number of passenger classes on titanic: 3\n"
          ]
        }
      ]
    },
    {
      "cell_type": "markdown",
      "source": [
        "### How many passenger classes (pclass) were there on Tinanic?\n",
        "Average ticket fare was 32.2\n",
        "\n",
        "And average ticket fare for every passenger class was:\n",
        "\n",
        "1.    84.15\n",
        "2.    20.66\n",
        "3.    13.68\n",
        "\n"
      ],
      "metadata": {
        "id": "cMAsRVww6IVD"
      }
    },
    {
      "cell_type": "code",
      "source": [
        "overall_average_fare = dataset['Fare'].mean()\n",
        "\n",
        "average_fare_for_every_class = dataset.groupby('Pclass')['Fare'].mean()\n",
        "\n",
        "print(\"Overall average ticket fare:\", overall_average_fare)\n",
        "print(\"Average ticket fare for every passenger class:\")\n",
        "print(average_fare_for_every_class)"
      ],
      "metadata": {
        "colab": {
          "base_uri": "https://localhost:8080/"
        },
        "id": "EN4gkDlt6JpI",
        "outputId": "1266122d-df0a-49de-9fe4-1d117bcf7da2"
      },
      "execution_count": null,
      "outputs": [
        {
          "output_type": "stream",
          "name": "stdout",
          "text": [
            "Overall average ticket fare: 32.204207968574636\n",
            "Average ticket fare for every passenger class:\n",
            "Pclass\n",
            "1    84.154687\n",
            "2    20.662183\n",
            "3    13.675550\n",
            "Name: Fare, dtype: float64\n"
          ]
        }
      ]
    },
    {
      "cell_type": "markdown",
      "metadata": {
        "id": "s9bfz5KbuJ4r"
      },
      "source": [
        "**Task 2** (0.5 points) <br/>\n",
        "Visualize age distribution (you may use a histogram, for example).\n",
        "\n",
        "    * What is the minimal and maximum ages of the passengers? Visualize it on the plot\n",
        "    * What is the median age? And among males and females separately? Visualize it on the separate plot\n",
        "    * Make conclusions about what you see on the plots"
      ]
    },
    {
      "cell_type": "markdown",
      "source": [
        "### What is the minimal and maximum ages of the passengers?\n",
        "Minimal age among passengers: 0.42(~ 5 monts old)\n",
        "\n",
        "Maximal age among passengers: 80"
      ],
      "metadata": {
        "id": "vEjwQvvBAll5"
      }
    },
    {
      "cell_type": "markdown",
      "source": [
        "### What is the median age? And among males and females separately?\n",
        "Median age among all passengers: 28\n",
        "\n",
        "Median age among males: 29\n",
        "\n",
        "Median age among females: 27"
      ],
      "metadata": {
        "id": "WB3OtYYaBKbL"
      }
    },
    {
      "cell_type": "markdown",
      "source": [
        "### Make conclusions about what you see on the plots\n",
        "After looking at the plots I can say that we have right-skewed distribution with majority of passengers in younger age groups. Also we can see quite big amount of toddlers and kids that probably went sailing with their parents. Furthermore we can say that median age of females is 2 years lower than median age of males and generally the median age of males is slightly above average and median age of females is as much below average. So this could indicate that there was a bigger portion of older males among the passengers, possibly including adults or elderly individuals."
      ],
      "metadata": {
        "id": "qNJBxnr3CHVg"
      }
    },
    {
      "cell_type": "code",
      "execution_count": 72,
      "metadata": {
        "id": "q19UF2SHuJ41",
        "colab": {
          "base_uri": "https://localhost:8080/",
          "height": 1000
        },
        "outputId": "25c56a9a-5178-4390-f620-6959c3e5cf2f"
      },
      "outputs": [
        {
          "output_type": "display_data",
          "data": {
            "text/plain": [
              "<Figure size 800x600 with 1 Axes>"
            ],
            "image/png": "[encoded data removed]"
          },
          "metadata": {}
        },
        {
          "output_type": "display_data",
          "data": {
            "text/plain": [
              "<Figure size 800x400 with 1 Axes>"
            ],
            "image/png": "[encoded data removed]"
          },
          "metadata": {}
        },
        {
          "output_type": "display_data",
          "data": {
            "text/plain": [
              "<Figure size 1000x400 with 1 Axes>"
            ],
            "image/png": "[encoded data removed]"
          },
          "metadata": {}
        },
        {
          "output_type": "stream",
          "name": "stdout",
          "text": [
            "Minimum Age: 0.42\n",
            "Maximum Age: 80.0\n",
            "Overall Median Age: 28.0\n",
            "Median Age Among Males: 29.0\n",
            "Median Age Among Females: 27.0\n"
          ]
        }
      ],
      "source": [
        "age_data = dataset['Age'].dropna()\n",
        "\n",
        "plt.figure(figsize=(8, 6))\n",
        "\n",
        "plt.hist(age_data, bins=20, color='skyblue', edgecolor='black')\n",
        "plt.title('Age Distribution of Passengers')\n",
        "plt.xlabel('Age')\n",
        "plt.ylabel('Frequency')\n",
        "plt.grid(axis='y', linestyle='--', alpha=0.7)\n",
        "\n",
        "min_age = age_data.min()\n",
        "max_age = age_data.max()\n",
        "\n",
        "plt.axvline(min_age, color='blue', linestyle='dashed', linewidth=2)\n",
        "plt.text(min_age + 1,70,'min_age',rotation=90)\n",
        "plt.axvline(max_age, color='purple', linestyle='dashed', linewidth=2)\n",
        "plt.text(max_age + 1,70,'max_age',rotation=90)\n",
        "\n",
        "plt.show()\n",
        "\n",
        "plt.figure(figsize=(8, 4))\n",
        "sns.boxplot(x='Age', data=dataset)\n",
        "\n",
        "plt.xlabel('Age')\n",
        "plt.title('Minimal and Maximum Ages of Passengers')\n",
        "plt.tight_layout()\n",
        "plt.show()\n",
        "\n",
        "median_age = age_data.median()\n",
        "median_age_male = age_data[dataset['Sex'] == 'male'].median()\n",
        "median_age_female = age_data[dataset['Sex'] == 'female'].median()\n",
        "\n",
        "plt.figure(figsize=(10, 4))\n",
        "plt.subplot(1, 2, 1)\n",
        "plt.bar(['Overall', 'Males', 'Females'], [median_age, median_age_male, median_age_female], color=['skyblue', 'lightcoral', 'lightgreen'])\n",
        "plt.title('Median Age by Gender')\n",
        "plt.ylabel('Median Age')\n",
        "\n",
        "plt.tight_layout()\n",
        "plt.show()\n",
        "\n",
        "print(\"Minimum Age:\", min_age)\n",
        "print(\"Maximum Age:\", max_age)\n",
        "print(\"Overall Median Age:\", median_age)\n",
        "print(\"Median Age Among Males:\", median_age_male)\n",
        "print(\"Median Age Among Females:\", median_age_female)\n"
      ]
    },
    {
      "cell_type": "markdown",
      "metadata": {
        "id": "ye6WohwXuJ41"
      },
      "source": [
        "**Task 3** (1 points) <br/>\n",
        "Find all the titles of the passengers (example, *Capt., Mr.,Mme.*), which are written in the column Name, and answer the following questions:\n",
        "\n",
        "    * How many are there unique titles?\n",
        "    * How many are there passengers with every title?\n",
        "    * What is the most popular man's title? And woman's title?\n",
        "    \n",
        "**Hint** You may select the title from the name as a word which contains a dot and is not middle name."
      ]
    },
    {
      "cell_type": "markdown",
      "source": [
        "### How many are there unique titles?\n",
        "There were 17 unique titles"
      ],
      "metadata": {
        "id": "XOSRi-toKfCJ"
      }
    },
    {
      "cell_type": "markdown",
      "source": [
        "### How many are there passengers with every title?\n",
        "Here is the number of passengers for each title:\n",
        "* Mr:          517\n",
        "* Miss:        182\n",
        "* Mrs:         125\n",
        "* Master:       40\n",
        "* Dr:            7\n",
        "* Rev:           6\n",
        "* Mlle:          2\n",
        "* Major:         2\n",
        "* Col:           2\n",
        "* Countess:      1\n",
        "* Capt:          1\n",
        "* Ms:            1\n",
        "* Sir:           1\n",
        "* Lady:          1\n",
        "* Mme:           1\n",
        "* Don:           1\n",
        "* Jonkheer:      1"
      ],
      "metadata": {
        "id": "rqCq-eBTKmEX"
      }
    },
    {
      "cell_type": "markdown",
      "source": [
        "### What is the most popular man's title? And woman's title?\n",
        "Most popular title among males: Mr\n",
        "\n",
        "Most popular title among females: Miss"
      ],
      "metadata": {
        "id": "XSIkg4-nLSPl"
      }
    },
    {
      "cell_type": "code",
      "execution_count": null,
      "metadata": {
        "id": "LDBIRnGXuJ41",
        "colab": {
          "base_uri": "https://localhost:8080/"
        },
        "outputId": "beee0d73-7137-48db-c958-806c70f28976"
      },
      "outputs": [
        {
          "output_type": "stream",
          "name": "stdout",
          "text": [
            "Number of unique titles: 17\n",
            "Passengers with each title:\n",
            "Mr          517\n",
            "Miss        182\n",
            "Mrs         125\n",
            "Master       40\n",
            "Dr            7\n",
            "Rev           6\n",
            "Mlle          2\n",
            "Major         2\n",
            "Col           2\n",
            "Countess      1\n",
            "Capt          1\n",
            "Ms            1\n",
            "Sir           1\n",
            "Lady          1\n",
            "Mme           1\n",
            "Don           1\n",
            "Jonkheer      1\n",
            "Name: Title, dtype: int64\n",
            "Most popular title among males: Mr\n",
            "Most popular title among females: Miss\n"
          ]
        }
      ],
      "source": [
        "import re\n",
        "dataset['Title'] = dataset['Name'].apply(lambda x: re.search(r'([A-Za-z]+)\\.', x).group(1))\n",
        "\n",
        "unique_titles = dataset['Title'].nunique()\n",
        "\n",
        "title_counts = dataset['Title'].value_counts()\n",
        "\n",
        "male_titles = dataset[dataset['Sex'] == 'male']['Title']\n",
        "female_titles = dataset[dataset['Sex'] == 'female']['Title']\n",
        "\n",
        "most_popular_male_title = male_titles.value_counts().idxmax()\n",
        "most_popular_female_title = female_titles.value_counts().idxmax()\n",
        "\n",
        "print(\"Number of unique titles:\", unique_titles)\n",
        "print(\"Passengers with each title:\")\n",
        "print(title_counts)\n",
        "print(\"Most popular title among males:\", most_popular_male_title)\n",
        "print(\"Most popular title among females:\", most_popular_female_title)"
      ]
    },
    {
      "cell_type": "markdown",
      "metadata": {
        "id": "n0RsqbTPuJ41"
      },
      "source": [
        "**Task 4** (0.5 points) <br/>\n",
        "Is there correlation between *pclass* and *ticket price*? Calculate mean price for each class and visualize price distribution for each class as well. Make conclusions about what you see on the plot\n",
        "\n",
        "Hint: you could make one or several plot types i.e.  box, violine, pair, histogram (see additional notebooks for Seminar 1 \"Visualization with Seaborn\"). Main point here is to **choose** plots wisely and **make meaningful conclusions**\n",
        "\n"
      ]
    },
    {
      "cell_type": "markdown",
      "source": [
        "### Is there correlation between pclass and ticket price? Make conclusions about what you see on the plot\n",
        "\n",
        "Boxplot was chosen for visualization because it shows us the distribution of ticket prices for each class, and allows us to see averages, deviation and abnormal outliers, i.e. it gives us everything we need to compare the presented data.\n",
        "\n",
        "\n",
        "According to the data obtained on boxplot we can see that there is a negative correlation between passenger class and ticket price. 1 is considered to be the highest and further in descending order, so the cost of tickets of the 1st class is the highest and has the biggest amount of outliers. When calculating the correlation, we see the confirmation of our thought: the correlation is\n",
        "-0.55, which indicates that there is a moderate influence of pclass and ticket price on each other."
      ],
      "metadata": {
        "id": "_yD8k_iCAduT"
      }
    },
    {
      "cell_type": "code",
      "execution_count": 82,
      "metadata": {
        "id": "fkvVvnHPuJ41",
        "colab": {
          "base_uri": "https://localhost:8080/",
          "height": 624
        },
        "outputId": "1e7a70ee-d6f3-435c-9f5e-803623681338"
      },
      "outputs": [
        {
          "output_type": "display_data",
          "data": {
            "text/plain": [
              "<Figure size 1000x600 with 1 Axes>"
            ],
            "image/png": "[encoded data removed]"
          },
          "metadata": {}
        },
        {
          "output_type": "stream",
          "name": "stdout",
          "text": [
            "Correlation: -0.5494996199439074\n"
          ]
        }
      ],
      "source": [
        "plt.figure(figsize=(10, 6))\n",
        "sns.boxplot(x='Pclass', y='Fare', data=dataset)\n",
        "plt.title('Ticket price distribution by passenger class')\n",
        "plt.xlabel('Passenger class')\n",
        "plt.ylabel('Ticket price')\n",
        "plt.grid(axis='y', linestyle='--', alpha=0.7)\n",
        "\n",
        "correlation = dataset['Pclass'].corr(dataset['Fare'])\n",
        "\n",
        "plt.tight_layout()\n",
        "plt.show()\n",
        "print(\"Correlation between pclass and ticket price:\", correlation)\n"
      ]
    },
    {
      "cell_type": "markdown",
      "metadata": {
        "id": "UcptRilCuJ41"
      },
      "source": [
        "**Task 5** (0.5 points) <br/>\n",
        "The same question as in task 4 about correlation between *embarked* and *ticket priсe*."
      ]
    },
    {
      "cell_type": "markdown",
      "source": [
        "### Is there correlation between port of embarkation and ticket price? Make conclusions about what you see on the plot\n",
        "It is not possible to calculate the correlation value between ticket price and boarding port because the port name is a categorical variable. However, it is possible to draw some conclusions from the graph. It shows that the highest ticket price was for passengers boarding the Titanic at port C (Cherbourg), followed by S (Southampton), and the lowest at port Q (Queenstown). The same gradation also applies to median values"
      ],
      "metadata": {
        "id": "9WWh1Ew7L4KF"
      }
    },
    {
      "cell_type": "code",
      "execution_count": 89,
      "metadata": {
        "id": "biR9anS5uJ41",
        "colab": {
          "base_uri": "https://localhost:8080/",
          "height": 607
        },
        "outputId": "a0c28a56-839d-4081-b5c6-f3b487fde63e"
      },
      "outputs": [
        {
          "output_type": "display_data",
          "data": {
            "text/plain": [
              "<Figure size 1000x600 with 1 Axes>"
            ],
            "image/png": "[encoded data removed]"
          },
          "metadata": {}
        }
      ],
      "source": [
        "plt.figure(figsize=(10, 6))\n",
        "sns.boxplot(x='Embarked', y='Fare', data=dataset)\n",
        "plt.title('Ticket price distribution by port of embarkation')\n",
        "plt.xlabel('Embarked')\n",
        "plt.ylabel('Ticket price')\n",
        "plt.grid(axis='y', linestyle='--', alpha=0.7)\n",
        "\n",
        "plt.tight_layout()\n",
        "plt.show()\n",
        "\n"
      ]
    },
    {
      "cell_type": "markdown",
      "metadata": {
        "id": "eeKKfMOguJ41"
      },
      "source": [
        "**Task 6** (0.5 points) <br/>\n",
        "Visualize age distribution for survived and not survived passengers separately and calculate the mean age for each class. Are they different? Provide the same visualization for males and females separately. Make conclusions about what you see on the plots"
      ]
    },
    {
      "cell_type": "markdown",
      "source": [
        "### Compute mean ages\n",
        "Mean age for survived passengers: 28.34\n",
        "\n",
        "Mean age for not survived passengers: 30.63\n",
        "\n",
        "Mean age for survived males: 27.28\n",
        "\n",
        "Mean age for not survived males: 31.62\n",
        "\n",
        "Mean age for survived females: 28.85\n",
        "\n",
        "Mean age for not survived females: 25.05"
      ],
      "metadata": {
        "id": "Ay65_Db1OGro"
      }
    },
    {
      "cell_type": "markdown",
      "source": [
        "### Make conclusions about what you see on the plots\n",
        "Looking at the graphs we can note an important detail that there are many survivors among children and women. Presumably this is due to the fact that women and children were the first to get into the lifeboats, while men sacrificed their lives - this confirms the very low percentage of men who survived. It is also worth noting that the average age of men who survived was lower than the average age of those who died, and the situation is the opposite for female representatives."
      ],
      "metadata": {
        "id": "12RXVXFlOhjO"
      }
    },
    {
      "cell_type": "code",
      "execution_count": 74,
      "metadata": {
        "id": "udmgFlQTuJ42",
        "colab": {
          "base_uri": "https://localhost:8080/",
          "height": 711
        },
        "outputId": "34fb3e76-cf99-4415-9c31-4ad7f73c1885"
      },
      "outputs": [
        {
          "output_type": "display_data",
          "data": {
            "text/plain": [
              "<Figure size 1600x600 with 3 Axes>"
            ],
            "image/png": "[encoded data removed]"
          },
          "metadata": {}
        },
        {
          "output_type": "stream",
          "name": "stdout",
          "text": [
            "Mean age for survived passengers: 28.343689655172415\n",
            "Mean age for not survived passengers: 30.62617924528302\n",
            "Mean age for survived males: 27.276021505376345\n",
            "Mean age for not survived males: 31.618055555555557\n",
            "Mean age for survived females: 28.84771573604061\n",
            "Mean age for not survived females: 25.046875\n"
          ]
        }
      ],
      "source": [
        "age_data = dataset['Age'].dropna()\n",
        "\n",
        "survived_age = age_data[dataset['Survived'] == 1]\n",
        "not_survived_age = age_data[dataset['Survived'] == 0]\n",
        "\n",
        "survived_male_age = survived_age[dataset['Sex'] == 'male']\n",
        "not_survived_male_age = not_survived_age[dataset['Sex'] == 'male']\n",
        "survived_female_age = survived_age[dataset['Sex'] == 'female']\n",
        "not_survived_female_age = not_survived_age[dataset['Sex'] == 'female']\n",
        "\n",
        "plt.figure(figsize=(16, 6))\n",
        "\n",
        "plt.subplot(1, 3, 1)\n",
        "plt.hist(survived_age, bins=20, color='green', alpha=0.5, label='Survived', edgecolor='black')\n",
        "plt.hist(not_survived_age, bins=20, color='red', alpha=0.5, label='Not Survived', edgecolor='black')\n",
        "plt.title('Age Distribution (All Passengers)')\n",
        "plt.xlabel('Age')\n",
        "plt.ylabel('Frequency')\n",
        "plt.grid(axis='y', linestyle='--', alpha=0.7)\n",
        "plt.legend()\n",
        "\n",
        "plt.subplot(1, 3, 2)\n",
        "plt.hist(survived_male_age, bins=20, color='green', alpha=0.7, label='Survived', edgecolor='black')\n",
        "plt.hist(not_survived_male_age, bins=20, color='red', alpha=0.7, label='Not Survived', edgecolor='black')\n",
        "plt.title('Age Distribution for Males (Survived vs. Not Survived)')\n",
        "plt.xlabel('Age')\n",
        "plt.ylabel('Frequency')\n",
        "plt.grid(axis='y', linestyle='--', alpha=0.7)\n",
        "plt.legend()\n",
        "\n",
        "plt.subplot(1, 3, 3)\n",
        "plt.hist(survived_female_age, bins=20, color='green', alpha=0.7, label='Survived', edgecolor='black')\n",
        "plt.hist(not_survived_female_age, bins=20, color='red', alpha=0.7, label='Not Survived', edgecolor='black')\n",
        "plt.title('Age Distribution for Females (Survived vs. Not Survived)')\n",
        "plt.xlabel('Age')\n",
        "plt.ylabel('Frequency')\n",
        "plt.grid(axis='y', linestyle='--', alpha=0.7)\n",
        "plt.legend()\n",
        "\n",
        "plt.tight_layout()\n",
        "plt.show()\n",
        "\n",
        "mean_age_survived = survived_age.mean()\n",
        "mean_age_not_survived = not_survived_age.mean()\n",
        "mean_age_survived_male = survived_male_age.mean()\n",
        "mean_age_not_survived_male = not_survived_male_age.mean()\n",
        "mean_age_survived_female = survived_female_age.mean()\n",
        "mean_age_not_survived_female = not_survived_female_age.mean()\n",
        "\n",
        "print(\"Mean age for survived passengers:\", mean_age_survived)\n",
        "print(\"Mean age for not survived passengers:\", mean_age_not_survived)\n",
        "print(\"Mean age for survived males:\", mean_age_survived_male)\n",
        "print(\"Mean age for not survived males:\", mean_age_not_survived_male)\n",
        "print(\"Mean age for survived females:\", mean_age_survived_female)\n",
        "print(\"Mean age for not survived females:\", mean_age_not_survived_female)"
      ]
    }
  ],
  "metadata": {
    "kernelspec": {
      "display_name": "Python 3 (ipykernel)",
      "language": "python",
      "name": "python3"
    },
    "language_info": {
      "codemirror_mode": {
        "name": "ipython",
        "version": 3
      },
      "file_extension": ".py",
      "mimetype": "text/x-python",
      "name": "python",
      "nbconvert_exporter": "python",
      "pygments_lexer": "ipython3",
      "version": "3.9.7"
    },
    "colab": {
      "provenance": []
    }
  },
  "nbformat": 4,
  "nbformat_minor": 0
}